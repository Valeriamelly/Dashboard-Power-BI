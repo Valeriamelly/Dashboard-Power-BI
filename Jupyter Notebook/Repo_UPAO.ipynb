{
 "cells": [
  {
   "cell_type": "code",
   "execution_count": 1,
   "id": "5d568113",
   "metadata": {},
   "outputs": [],
   "source": [
    "#Importar las bibliotecas requeridas \n",
    "import requests\n",
    "from bs4 import BeautifulSoup\n",
    "from lxml import etree\n",
    "import pandas as pd "
   ]
  },
  {
   "cell_type": "code",
   "execution_count": 2,
   "id": "19406b62",
   "metadata": {},
   "outputs": [],
   "source": [
    "#cargar el contenido de la página web de repositorio upao\n",
    "r = requests.get('https://repositorio.upao.edu.pe/handle/20.500.12759/53')"
   ]
  },
  {
   "cell_type": "code",
   "execution_count": 3,
   "id": "e873bd9f",
   "metadata": {},
   "outputs": [
    {
     "data": {
      "text/plain": [
       "200"
      ]
     },
     "execution_count": 3,
     "metadata": {},
     "output_type": "execute_result"
    }
   ],
   "source": [
    "#Verificar estado del código HTTP\n",
    "r.status_code"
   ]
  },
  {
   "cell_type": "code",
   "execution_count": 4,
   "id": "eaa1ae10",
   "metadata": {},
   "outputs": [],
   "source": [
    "#crear un objeto BeautifulSoup\n",
    "soup = BeautifulSoup(r.content, 'html.parser')"
   ]
  },
  {
   "cell_type": "code",
   "execution_count": 5,
   "id": "3bf393e1",
   "metadata": {},
   "outputs": [
    {
     "data": {
      "text/plain": [
       "['2022',\n",
       " '2022',\n",
       " '2022',\n",
       " '2022',\n",
       " '2022',\n",
       " '2022',\n",
       " '2022',\n",
       " '2021',\n",
       " '2021',\n",
       " '2021',\n",
       " '2021',\n",
       " '2021',\n",
       " '2021',\n",
       " '2021',\n",
       " '2021',\n",
       " '2021',\n",
       " '2021',\n",
       " '2021',\n",
       " '2021',\n",
       " '2021']"
      ]
     },
     "execution_count": 5,
     "metadata": {},
     "output_type": "execute_result"
    }
   ],
   "source": [
    "#buscar la etiqueta 'td' e identificar el elemento t1 \n",
    "fecha = soup.find_all('td',attrs={\"headers\": \"t1\"})\n",
    "#recorrer fechas y mostrarlo en formato de texto\n",
    "fecha = [i.text for i in fecha]\n",
    "fecha"
   ]
  },
  {
   "cell_type": "code",
   "execution_count": 6,
   "id": "0178dca4",
   "metadata": {},
   "outputs": [
    {
     "data": {
      "text/plain": [
       "['Marco de trabajo basado en BPM y Design Sprint para el proceso de control de suministros de producción en granja de la empresa Chimu Agropecuaria año 2021',\n",
       " 'Solución de analítica de datos para medir indicadores que den soporte en la toma de decisiones en el servicio de transporte de carga que ofrece la empresa grupo Transpesa S.A.C en el periodo 2016-2020',\n",
       " 'Implementación de módulo de despacho en ERP NISIRA para la optimización del proceso en sucursales de otras ciudades',\n",
       " 'Dashboard para el análisis de ofertas laborales en la región la Libertad usando técnicas de Web Scraping, en el periodo 2020-2021',\n",
       " 'Minería de procesos con metodología ágil para mejorar la comercialización de la empresa de distribuciones DMD S.A.C',\n",
       " 'Marco de trabajo basado en BPM y LEAN para la automatización del  proceso de Trámite de carné único de la  Universidad Privada Antenor Orrego',\n",
       " 'Modelo de predicción de plagas en el cultivo de palto utilizando metodología de aprendizaje automático supervisado, empresa Virú S.A., 2019-2021',\n",
       " 'Analítica Web Basado en los Factores SEO para mejorar el  posicionamiento del sitio Web de la Empresa Xirect Software  Solutions en el periodo 2020',\n",
       " 'Sistema informático móvil inteligente para la detección temprana y control de enfermedades respiratorias en pacientes del sector privado de salud en la ciudad de Trujillo',\n",
       " 'Modelo de almacén para el proceso de negocio de recepción, custodia y despacho de materiales en la minera Gold Fields – cerro corona año 2019',\n",
       " 'Modelado de proceso de negocio aplicando Scrumban para la planificación de proyectos de auditoria y consultoría empresarial en la empresa Ernst & Young Perú',\n",
       " 'Análisis predictivo para conocer los factores que repercuten en el rendimiento académico de los estudiantes del Cetpro ADITA ZANNIER usando la metodología CRISP',\n",
       " 'Desarrollo de una solución de inteligencia de negocios para mejorar el análisis de información del proceso de hospitalización del hospital belén de Trujillo',\n",
       " 'Evaluación de la calidad del Sistema Integrado de Administración Financiera de la Municipalidad Distrital de Calamarca basado en ISO/IEC 25000 durante el año 2021',\n",
       " 'Modelo de análisis predictivo para la gestión de abastecimiento de la empresa top llantas utilizando lenguaje R',\n",
       " 'Marco de trabajo basado en la metodología ONTARGET y LEAN para el proceso de negocio de revisión de tesis de la escuela de posgrado Ingeniería UPAO, año 2020',\n",
       " 'Modelo de minería de procesos para mejoras en los procesos a partir de los registros de eventos de los sistemas de información de la empresa de transportes de pasajeros nuevo chinchaysuyo bajo la plataforma de aris en el periodo 2020',\n",
       " 'Desarrollo de un sistema web de gestión de Restobares para Instabar',\n",
       " 'Implementación de mejora en la solución APM módulo de estándares para agregar versionamiento de estándares y uso de estrategias de mantenimiento de la empresa Ternium',\n",
       " 'Chatbot con Dialogflow y redes neuronales recurrentes para la mejora del proceso de comercialización de productos agrícolas para la Gerencia Regional de Agricultura- La Libertad en el año 2020']"
      ]
     },
     "execution_count": 6,
     "metadata": {},
     "output_type": "execute_result"
    }
   ],
   "source": [
    "#buscar la etiqueta 'td' e identificar el elemento t2\n",
    "titulo = soup.find_all('td',attrs={\"headers\": \"t2\"})\n",
    "#recorrer titulos y mostrarlo en formato de texto\n",
    "titulo = [i.text for i in titulo]\n",
    "titulo"
   ]
  },
  {
   "cell_type": "code",
   "execution_count": 7,
   "id": "c573ecbd",
   "metadata": {},
   "outputs": [
    {
     "data": {
      "text/plain": [
       "['Infantes Quiroz, Freddy Henry; Alvarado Rojas, Luis Noé; Gutiérrez Gutiérrez, Henry',\n",
       " 'Ullón Ramírez, Agustin Eduardo; Marquina Rodríguez, Jonathan Piero; Cortez Ulloa, Jhon Jefferson',\n",
       " 'Meléndez Revilla, Karla Vanessa; Moreno Zúñiga, Jonatan Víctor',\n",
       " 'Ullon Ramírez, Agustín Eduardo; Villanueva Cruz, Daniel Rubén; Lozano Ortiz, Luis Eduardo',\n",
       " 'Urrelo Huiman, Luis Vladimir; Castillo Ramírez Keller, Luis Nicolás; Flores Neciosup, Walter Ernesto',\n",
       " 'Calderón Sedano, José Antonio; Ávila Valdivia, Elías David; Cabieses Esquivel, Jorge Luis',\n",
       " 'Urrelo Huiman, Luis Vladimir; Solano Robles, Cesar Anthony; Caballero Cruz, Ivonne del Pilar',\n",
       " 'Ullón Ramírez, Agustin Eduardo; Agustín Ríos, Alexander Mijael; Revilla Zavala, Alexander Gerardo',\n",
       " 'Urrelo Huiman, Luis Vladimir; Liberato Bernal, Diego Edinson; Quilcat Peantes, Rodrigo Miguel',\n",
       " 'Calderón Sedano, José Antonio; Quispe Rodríguez, Roberto Carlos',\n",
       " 'Vigo Pereyra, Liliana Patricia; Cruz Acuña, Carlos Eduardo',\n",
       " 'Ullon Ramírez, Agustín Eduardo; Cotrina Mauricio, Alam Daniel; Lujan Cortijo, Jean Carlos Martin',\n",
       " 'Ullon Ramírez, Agustín Eduardo; Zagastizabal Ruiz, Christian Jesús',\n",
       " 'Diaz Sanchez, Jaime Eduardo; Minchola Rodriguez, Estefany Natali',\n",
       " 'Ullon Ramírez, Agustín Eduardo; Príncipe Arteaga, José Armando; Saavedra Campos, Jhon Cristian',\n",
       " 'Calderón Sedano, José Antonio; Quispe Saldaña, Juan José; Tandazo Ramírez, Gersi Heraldo',\n",
       " 'Ullón Ramírez, Agustin Eduardo; Hernández Lezama, Ercilia Aracely; Gálvez Velásquez, Juan Carlos',\n",
       " 'Díaz Sánchez, Jaime Eduardo; Sánchez Palomino, Manuel Alejandro',\n",
       " 'Infantes Quiroz, Freddy Henrry; Guevara Evangelista, Jose Antonio',\n",
       " 'Urrelo Huiman, Luis Vladimir; Espinoza Sanjinez, Jhosep Junior']"
      ]
     },
     "execution_count": 7,
     "metadata": {},
     "output_type": "execute_result"
    }
   ],
   "source": [
    "#buscar la etiqueta 'td' e identificar el elemento t3\n",
    "autor = soup.find_all('td',attrs={\"headers\": \"t3\"})\n",
    "#recorrer autores y mostrarlo en formato de texto\n",
    "autor = [i.text for i in autor]\n",
    "autor"
   ]
  },
  {
   "cell_type": "code",
   "execution_count": 8,
   "id": "6b1e88d8",
   "metadata": {},
   "outputs": [
    {
     "name": "stdout",
     "output_type": "stream",
     "text": [
      "20\n",
      "20\n",
      "20\n"
     ]
    }
   ],
   "source": [
    "#Verificar que la longitud coincida\n",
    "print(len(fecha))\n",
    "print(len(titulo))\n",
    "print(len(autor))"
   ]
  },
  {
   "cell_type": "code",
   "execution_count": 9,
   "id": "6a35b6fa",
   "metadata": {},
   "outputs": [
    {
     "data": {
      "text/html": [
       "<div>\n",
       "<style scoped>\n",
       "    .dataframe tbody tr th:only-of-type {\n",
       "        vertical-align: middle;\n",
       "    }\n",
       "\n",
       "    .dataframe tbody tr th {\n",
       "        vertical-align: top;\n",
       "    }\n",
       "\n",
       "    .dataframe thead th {\n",
       "        text-align: right;\n",
       "    }\n",
       "</style>\n",
       "<table border=\"1\" class=\"dataframe\">\n",
       "  <thead>\n",
       "    <tr style=\"text-align: right;\">\n",
       "      <th></th>\n",
       "      <th>Fecha de publicación</th>\n",
       "      <th>Título</th>\n",
       "      <th>Autor(es)</th>\n",
       "    </tr>\n",
       "  </thead>\n",
       "  <tbody>\n",
       "    <tr>\n",
       "      <th>0</th>\n",
       "      <td>2022</td>\n",
       "      <td>Marco de trabajo basado en BPM y Design Sprint...</td>\n",
       "      <td>Infantes Quiroz, Freddy Henry; Alvarado Rojas,...</td>\n",
       "    </tr>\n",
       "    <tr>\n",
       "      <th>1</th>\n",
       "      <td>2022</td>\n",
       "      <td>Solución de analítica de datos para medir indi...</td>\n",
       "      <td>Ullón Ramírez, Agustin Eduardo; Marquina Rodrí...</td>\n",
       "    </tr>\n",
       "    <tr>\n",
       "      <th>2</th>\n",
       "      <td>2022</td>\n",
       "      <td>Implementación de módulo de despacho en ERP NI...</td>\n",
       "      <td>Meléndez Revilla, Karla Vanessa; Moreno Zúñiga...</td>\n",
       "    </tr>\n",
       "    <tr>\n",
       "      <th>3</th>\n",
       "      <td>2022</td>\n",
       "      <td>Dashboard para el análisis de ofertas laborale...</td>\n",
       "      <td>Ullon Ramírez, Agustín Eduardo; Villanueva Cru...</td>\n",
       "    </tr>\n",
       "    <tr>\n",
       "      <th>4</th>\n",
       "      <td>2022</td>\n",
       "      <td>Minería de procesos con metodología ágil para ...</td>\n",
       "      <td>Urrelo Huiman, Luis Vladimir; Castillo Ramírez...</td>\n",
       "    </tr>\n",
       "    <tr>\n",
       "      <th>5</th>\n",
       "      <td>2022</td>\n",
       "      <td>Marco de trabajo basado en BPM y LEAN para la ...</td>\n",
       "      <td>Calderón Sedano, José Antonio; Ávila Valdivia,...</td>\n",
       "    </tr>\n",
       "    <tr>\n",
       "      <th>6</th>\n",
       "      <td>2022</td>\n",
       "      <td>Modelo de predicción de plagas en el cultivo d...</td>\n",
       "      <td>Urrelo Huiman, Luis Vladimir; Solano Robles, C...</td>\n",
       "    </tr>\n",
       "    <tr>\n",
       "      <th>7</th>\n",
       "      <td>2021</td>\n",
       "      <td>Analítica Web Basado en los Factores SEO para ...</td>\n",
       "      <td>Ullón Ramírez, Agustin Eduardo; Agustín Ríos, ...</td>\n",
       "    </tr>\n",
       "    <tr>\n",
       "      <th>8</th>\n",
       "      <td>2021</td>\n",
       "      <td>Sistema informático móvil inteligente para la ...</td>\n",
       "      <td>Urrelo Huiman, Luis Vladimir; Liberato Bernal,...</td>\n",
       "    </tr>\n",
       "    <tr>\n",
       "      <th>9</th>\n",
       "      <td>2021</td>\n",
       "      <td>Modelo de almacén para el proceso de negocio d...</td>\n",
       "      <td>Calderón Sedano, José Antonio; Quispe Rodrígue...</td>\n",
       "    </tr>\n",
       "    <tr>\n",
       "      <th>10</th>\n",
       "      <td>2021</td>\n",
       "      <td>Modelado de proceso de negocio aplicando Scrum...</td>\n",
       "      <td>Vigo Pereyra, Liliana Patricia; Cruz Acuña, Ca...</td>\n",
       "    </tr>\n",
       "    <tr>\n",
       "      <th>11</th>\n",
       "      <td>2021</td>\n",
       "      <td>Análisis predictivo para conocer los factores ...</td>\n",
       "      <td>Ullon Ramírez, Agustín Eduardo; Cotrina Mauric...</td>\n",
       "    </tr>\n",
       "    <tr>\n",
       "      <th>12</th>\n",
       "      <td>2021</td>\n",
       "      <td>Desarrollo de una solución de inteligencia de ...</td>\n",
       "      <td>Ullon Ramírez, Agustín Eduardo; Zagastizabal R...</td>\n",
       "    </tr>\n",
       "    <tr>\n",
       "      <th>13</th>\n",
       "      <td>2021</td>\n",
       "      <td>Evaluación de la calidad del Sistema Integrado...</td>\n",
       "      <td>Diaz Sanchez, Jaime Eduardo; Minchola Rodrigue...</td>\n",
       "    </tr>\n",
       "    <tr>\n",
       "      <th>14</th>\n",
       "      <td>2021</td>\n",
       "      <td>Modelo de análisis predictivo para la gestión ...</td>\n",
       "      <td>Ullon Ramírez, Agustín Eduardo; Príncipe Artea...</td>\n",
       "    </tr>\n",
       "    <tr>\n",
       "      <th>15</th>\n",
       "      <td>2021</td>\n",
       "      <td>Marco de trabajo basado en la metodología ONTA...</td>\n",
       "      <td>Calderón Sedano, José Antonio; Quispe Saldaña,...</td>\n",
       "    </tr>\n",
       "    <tr>\n",
       "      <th>16</th>\n",
       "      <td>2021</td>\n",
       "      <td>Modelo de minería de procesos para mejoras en ...</td>\n",
       "      <td>Ullón Ramírez, Agustin Eduardo; Hernández Leza...</td>\n",
       "    </tr>\n",
       "    <tr>\n",
       "      <th>17</th>\n",
       "      <td>2021</td>\n",
       "      <td>Desarrollo de un sistema web de gestión de Res...</td>\n",
       "      <td>Díaz Sánchez, Jaime Eduardo; Sánchez Palomino,...</td>\n",
       "    </tr>\n",
       "    <tr>\n",
       "      <th>18</th>\n",
       "      <td>2021</td>\n",
       "      <td>Implementación de mejora en la solución APM mó...</td>\n",
       "      <td>Infantes Quiroz, Freddy Henrry; Guevara Evange...</td>\n",
       "    </tr>\n",
       "    <tr>\n",
       "      <th>19</th>\n",
       "      <td>2021</td>\n",
       "      <td>Chatbot con Dialogflow y redes neuronales recu...</td>\n",
       "      <td>Urrelo Huiman, Luis Vladimir; Espinoza Sanjine...</td>\n",
       "    </tr>\n",
       "  </tbody>\n",
       "</table>\n",
       "</div>"
      ],
      "text/plain": [
       "   Fecha de publicación                                             Título  \\\n",
       "0                  2022  Marco de trabajo basado en BPM y Design Sprint...   \n",
       "1                  2022  Solución de analítica de datos para medir indi...   \n",
       "2                  2022  Implementación de módulo de despacho en ERP NI...   \n",
       "3                  2022  Dashboard para el análisis de ofertas laborale...   \n",
       "4                  2022  Minería de procesos con metodología ágil para ...   \n",
       "5                  2022  Marco de trabajo basado en BPM y LEAN para la ...   \n",
       "6                  2022  Modelo de predicción de plagas en el cultivo d...   \n",
       "7                  2021  Analítica Web Basado en los Factores SEO para ...   \n",
       "8                  2021  Sistema informático móvil inteligente para la ...   \n",
       "9                  2021  Modelo de almacén para el proceso de negocio d...   \n",
       "10                 2021  Modelado de proceso de negocio aplicando Scrum...   \n",
       "11                 2021  Análisis predictivo para conocer los factores ...   \n",
       "12                 2021  Desarrollo de una solución de inteligencia de ...   \n",
       "13                 2021  Evaluación de la calidad del Sistema Integrado...   \n",
       "14                 2021  Modelo de análisis predictivo para la gestión ...   \n",
       "15                 2021  Marco de trabajo basado en la metodología ONTA...   \n",
       "16                 2021  Modelo de minería de procesos para mejoras en ...   \n",
       "17                 2021  Desarrollo de un sistema web de gestión de Res...   \n",
       "18                 2021  Implementación de mejora en la solución APM mó...   \n",
       "19                 2021  Chatbot con Dialogflow y redes neuronales recu...   \n",
       "\n",
       "                                            Autor(es)  \n",
       "0   Infantes Quiroz, Freddy Henry; Alvarado Rojas,...  \n",
       "1   Ullón Ramírez, Agustin Eduardo; Marquina Rodrí...  \n",
       "2   Meléndez Revilla, Karla Vanessa; Moreno Zúñiga...  \n",
       "3   Ullon Ramírez, Agustín Eduardo; Villanueva Cru...  \n",
       "4   Urrelo Huiman, Luis Vladimir; Castillo Ramírez...  \n",
       "5   Calderón Sedano, José Antonio; Ávila Valdivia,...  \n",
       "6   Urrelo Huiman, Luis Vladimir; Solano Robles, C...  \n",
       "7   Ullón Ramírez, Agustin Eduardo; Agustín Ríos, ...  \n",
       "8   Urrelo Huiman, Luis Vladimir; Liberato Bernal,...  \n",
       "9   Calderón Sedano, José Antonio; Quispe Rodrígue...  \n",
       "10  Vigo Pereyra, Liliana Patricia; Cruz Acuña, Ca...  \n",
       "11  Ullon Ramírez, Agustín Eduardo; Cotrina Mauric...  \n",
       "12  Ullon Ramírez, Agustín Eduardo; Zagastizabal R...  \n",
       "13  Diaz Sanchez, Jaime Eduardo; Minchola Rodrigue...  \n",
       "14  Ullon Ramírez, Agustín Eduardo; Príncipe Artea...  \n",
       "15  Calderón Sedano, José Antonio; Quispe Saldaña,...  \n",
       "16  Ullón Ramírez, Agustin Eduardo; Hernández Leza...  \n",
       "17  Díaz Sánchez, Jaime Eduardo; Sánchez Palomino,...  \n",
       "18  Infantes Quiroz, Freddy Henrry; Guevara Evange...  \n",
       "19  Urrelo Huiman, Luis Vladimir; Espinoza Sanjine...  "
      ]
     },
     "execution_count": 9,
     "metadata": {},
     "output_type": "execute_result"
    }
   ],
   "source": [
    "#generar dataframe a partir de un diccionario\n",
    "data = pd.DataFrame({\"Fecha de publicación\": fecha, \"Título\":titulo,\"Autor(es)\": autor}) \n",
    "data"
   ]
  },
  {
   "cell_type": "code",
   "execution_count": 10,
   "id": "3a332fe7",
   "metadata": {},
   "outputs": [
    {
     "data": {
      "text/plain": [
       "'https://repositorio.upao.edu.pe/handle/20.500.12759/53?offset=20'"
      ]
     },
     "execution_count": 10,
     "metadata": {},
     "output_type": "execute_result"
    }
   ],
   "source": [
    "#realizar paginación y obtener el href del primer elemento\n",
    "dom = etree.HTML(str(soup))\n",
    "siguiente = dom.xpath('//a[contains(text(),\"Siguiente\")]')[0].get('href')\n",
    "link = \"https://repositorio.upao.edu.pe\"\n",
    "siguiente = link+siguiente\n",
    "siguiente"
   ]
  },
  {
   "cell_type": "code",
   "execution_count": 11,
   "id": "b79831e3",
   "metadata": {},
   "outputs": [
    {
     "data": {
      "text/plain": [
       "1"
      ]
     },
     "execution_count": 11,
     "metadata": {},
     "output_type": "execute_result"
    }
   ],
   "source": [
    "#buscar la primera etiqueta de la paginación en formato de texto \n",
    "ini=soup.find('div',attrs={\"class\": \"browse_range\"})\n",
    "ini=int(ini.text.split(\" \")[17])\n",
    "ini"
   ]
  },
  {
   "cell_type": "code",
   "execution_count": 12,
   "id": "4f6c5209",
   "metadata": {},
   "outputs": [
    {
     "data": {
      "text/plain": [
       "20"
      ]
     },
     "execution_count": 12,
     "metadata": {},
     "output_type": "execute_result"
    }
   ],
   "source": [
    "#buscar la página final en formato de texto \n",
    "fin=soup.find('div',attrs={\"class\": \"browse_range\"})\n",
    "fin=int(fin.text.split(\" \")[19])\n",
    "fin"
   ]
  },
  {
   "cell_type": "code",
   "execution_count": 13,
   "id": "dcf71fe2",
   "metadata": {},
   "outputs": [
    {
     "data": {
      "text/plain": [
       "142"
      ]
     },
     "execution_count": 13,
     "metadata": {},
     "output_type": "execute_result"
    }
   ],
   "source": [
    "#buscar el total de páginas en formato de texto \n",
    "can=soup.find('div',attrs={\"class\": \"browse_range\"})\n",
    "#convertir de cadena a entero\n",
    "can=int(can.text.split()[-1])\n",
    "can"
   ]
  },
  {
   "cell_type": "code",
   "execution_count": 14,
   "id": "123d5bb3",
   "metadata": {},
   "outputs": [],
   "source": [
    "#listas vacías\n",
    "lista_fechas = []\n",
    "lista_titulos = []\n",
    "lista_autores = []"
   ]
  },
  {
   "cell_type": "code",
   "execution_count": 15,
   "id": "dbe05060",
   "metadata": {},
   "outputs": [
    {
     "name": "stdout",
     "output_type": "stream",
     "text": [
      "1 20 142 https://repositorio.upao.edu.pe/handle/20.500.12759/53?offset=0\n",
      "21 40 142 https://repositorio.upao.edu.pe/handle/20.500.12759/53?offset=20\n",
      "41 60 142 https://repositorio.upao.edu.pe/handle/20.500.12759/53?offset=40\n",
      "61 80 142 https://repositorio.upao.edu.pe/handle/20.500.12759/53?offset=60\n",
      "81 100 142 https://repositorio.upao.edu.pe/handle/20.500.12759/53?offset=80\n",
      "101 120 142 https://repositorio.upao.edu.pe/handle/20.500.12759/53?offset=100\n",
      "121 140 142 https://repositorio.upao.edu.pe/handle/20.500.12759/53?offset=120\n",
      "141 142 142 https://repositorio.upao.edu.pe/handle/20.500.12759/53?offset=140\n"
     ]
    }
   ],
   "source": [
    "#comienza el ciclo en la url principal\n",
    "siguiente = 'https://repositorio.upao.edu.pe/handle/20.500.12759/53?offset=0'\n",
    "#recorrer páginas \n",
    "while True:\n",
    "    r = requests.get(siguiente)\n",
    "    #si el estado es 200: código que se entrega cuando una página web o recurso actúa exactamente como se espera.\n",
    "    #se ejecuta las líneas de código que realizamos anteriormente\n",
    "    if r.status_code == 200:\n",
    "        soup = BeautifulSoup(r.content,'html.parser')\n",
    "        dom = etree.HTML(str(soup))\n",
    "        #fecha\n",
    "        fecha = soup.find_all('td',attrs={\"headers\": \"t1\"})\n",
    "        fecha = [i.text for i in fecha]\n",
    "        lista_fechas.extend(fecha) #añadir a la lista\n",
    "        #titulo\n",
    "        titulo = soup.find_all('td',attrs={\"headers\": \"t2\"})\n",
    "        titulo = [i.text for i in titulo]\n",
    "        lista_titulos.extend(titulo) #añadir a la lista\n",
    "        #autores\n",
    "        autor = soup.find_all('td',attrs={\"headers\": \"t3\"})\n",
    "        autor = [i.text for i in autor]\n",
    "        lista_autores.extend(autor) #añadir a la lista\n",
    "        #validamos nuevamente ini, fin y can\n",
    "        ini=soup.find('div',attrs={\"class\": \"browse_range\"})\n",
    "        ini=int(ini.text.split(\" \")[17])\n",
    "        fin=soup.find('div',attrs={\"class\": \"browse_range\"})\n",
    "        fin=int(fin.text.split(\" \")[19])\n",
    "        can=soup.find('div',attrs={\"class\": \"browse_range\"})\n",
    "        can=int(can.text.split()[-1])\n",
    "        can\n",
    "    else:\n",
    "        break\n",
    "    #imprimir paginación\n",
    "    print(ini, fin, can, siguiente)\n",
    "    #se rompe el bucle cuando la paginación actual sea igual a la paginación total\n",
    "    if fin==can:\n",
    "        break\n",
    "    #retorna a la siguiente página cuando la paginación actual sea diferente a la paginación total\n",
    "    siguiente = dom.xpath('//a[contains(text(),\"Siguiente\")]')[0].get('href')\n",
    "    link = \"https://repositorio.upao.edu.pe\"\n",
    "    siguiente = link+siguiente\n"
   ]
  },
  {
   "cell_type": "code",
   "execution_count": 16,
   "id": "056f08f4",
   "metadata": {},
   "outputs": [
    {
     "name": "stdout",
     "output_type": "stream",
     "text": [
      "142\n",
      "142\n",
      "142\n"
     ]
    }
   ],
   "source": [
    "#validar longitud de las listas (tienen que ser iguales)\n",
    "print(len(lista_fechas))\n",
    "print(len(lista_titulos))\n",
    "print(len(lista_autores))"
   ]
  },
  {
   "cell_type": "code",
   "execution_count": 17,
   "id": "e8752720",
   "metadata": {},
   "outputs": [
    {
     "data": {
      "text/html": [
       "<div>\n",
       "<style scoped>\n",
       "    .dataframe tbody tr th:only-of-type {\n",
       "        vertical-align: middle;\n",
       "    }\n",
       "\n",
       "    .dataframe tbody tr th {\n",
       "        vertical-align: top;\n",
       "    }\n",
       "\n",
       "    .dataframe thead th {\n",
       "        text-align: right;\n",
       "    }\n",
       "</style>\n",
       "<table border=\"1\" class=\"dataframe\">\n",
       "  <thead>\n",
       "    <tr style=\"text-align: right;\">\n",
       "      <th></th>\n",
       "      <th>fecha</th>\n",
       "      <th>titulos</th>\n",
       "      <th>autores</th>\n",
       "    </tr>\n",
       "  </thead>\n",
       "  <tbody>\n",
       "    <tr>\n",
       "      <th>0</th>\n",
       "      <td>2022</td>\n",
       "      <td>Marco de trabajo basado en BPM y Design Sprint...</td>\n",
       "      <td>Infantes Quiroz, Freddy Henry; Alvarado Rojas,...</td>\n",
       "    </tr>\n",
       "    <tr>\n",
       "      <th>1</th>\n",
       "      <td>2022</td>\n",
       "      <td>Solución de analítica de datos para medir indi...</td>\n",
       "      <td>Ullón Ramírez, Agustin Eduardo; Marquina Rodrí...</td>\n",
       "    </tr>\n",
       "    <tr>\n",
       "      <th>2</th>\n",
       "      <td>2022</td>\n",
       "      <td>Implementación de módulo de despacho en ERP NI...</td>\n",
       "      <td>Meléndez Revilla, Karla Vanessa; Moreno Zúñiga...</td>\n",
       "    </tr>\n",
       "    <tr>\n",
       "      <th>3</th>\n",
       "      <td>2022</td>\n",
       "      <td>Dashboard para el análisis de ofertas laborale...</td>\n",
       "      <td>Ullon Ramírez, Agustín Eduardo; Villanueva Cru...</td>\n",
       "    </tr>\n",
       "    <tr>\n",
       "      <th>4</th>\n",
       "      <td>2022</td>\n",
       "      <td>Minería de procesos con metodología ágil para ...</td>\n",
       "      <td>Urrelo Huiman, Luis Vladimir; Castillo Ramírez...</td>\n",
       "    </tr>\n",
       "    <tr>\n",
       "      <th>...</th>\n",
       "      <td>...</td>\n",
       "      <td>...</td>\n",
       "      <td>...</td>\n",
       "    </tr>\n",
       "    <tr>\n",
       "      <th>137</th>\n",
       "      <td>2013</td>\n",
       "      <td>Diseño de una aplicación Windows para la gesti...</td>\n",
       "      <td>Mendoza Puerta, Henry Antonio; Avalos Espinoza...</td>\n",
       "    </tr>\n",
       "    <tr>\n",
       "      <th>138</th>\n",
       "      <td>2015</td>\n",
       "      <td>Automatización del proceso de ventas y distrib...</td>\n",
       "      <td>Cueva Chávez, Walter Manuel; Ventura Labrin, L...</td>\n",
       "    </tr>\n",
       "    <tr>\n",
       "      <th>139</th>\n",
       "      <td>2015</td>\n",
       "      <td>Sistema informático web de trámite documentari...</td>\n",
       "      <td>Mendoza Puerta, Henry Antonio; Calmet Izquierd...</td>\n",
       "    </tr>\n",
       "    <tr>\n",
       "      <th>140</th>\n",
       "      <td>2014</td>\n",
       "      <td>Diseño de un datamart para el proceso de inscr...</td>\n",
       "      <td>Meléndez Revilla, Karla; Matallana Caffo, Carl...</td>\n",
       "    </tr>\n",
       "    <tr>\n",
       "      <th>141</th>\n",
       "      <td>2014</td>\n",
       "      <td>Desarrollo de un sistema informático web para ...</td>\n",
       "      <td>Lazo Aguirre, Walter Aurelio; Valderrama Guaya...</td>\n",
       "    </tr>\n",
       "  </tbody>\n",
       "</table>\n",
       "<p>142 rows × 3 columns</p>\n",
       "</div>"
      ],
      "text/plain": [
       "    fecha                                            titulos  \\\n",
       "0    2022  Marco de trabajo basado en BPM y Design Sprint...   \n",
       "1    2022  Solución de analítica de datos para medir indi...   \n",
       "2    2022  Implementación de módulo de despacho en ERP NI...   \n",
       "3    2022  Dashboard para el análisis de ofertas laborale...   \n",
       "4    2022  Minería de procesos con metodología ágil para ...   \n",
       "..    ...                                                ...   \n",
       "137  2013  Diseño de una aplicación Windows para la gesti...   \n",
       "138  2015  Automatización del proceso de ventas y distrib...   \n",
       "139  2015  Sistema informático web de trámite documentari...   \n",
       "140  2014  Diseño de un datamart para el proceso de inscr...   \n",
       "141  2014  Desarrollo de un sistema informático web para ...   \n",
       "\n",
       "                                               autores  \n",
       "0    Infantes Quiroz, Freddy Henry; Alvarado Rojas,...  \n",
       "1    Ullón Ramírez, Agustin Eduardo; Marquina Rodrí...  \n",
       "2    Meléndez Revilla, Karla Vanessa; Moreno Zúñiga...  \n",
       "3    Ullon Ramírez, Agustín Eduardo; Villanueva Cru...  \n",
       "4    Urrelo Huiman, Luis Vladimir; Castillo Ramírez...  \n",
       "..                                                 ...  \n",
       "137  Mendoza Puerta, Henry Antonio; Avalos Espinoza...  \n",
       "138  Cueva Chávez, Walter Manuel; Ventura Labrin, L...  \n",
       "139  Mendoza Puerta, Henry Antonio; Calmet Izquierd...  \n",
       "140  Meléndez Revilla, Karla; Matallana Caffo, Carl...  \n",
       "141  Lazo Aguirre, Walter Aurelio; Valderrama Guaya...  \n",
       "\n",
       "[142 rows x 3 columns]"
      ]
     },
     "execution_count": 17,
     "metadata": {},
     "output_type": "execute_result"
    }
   ],
   "source": [
    "#convertir a dataframe a partir de un diccionario\n",
    "df=pd.DataFrame({\"fecha\":lista_fechas,\"titulos\":lista_titulos, \"autores\":lista_autores})\n",
    "df"
   ]
  },
  {
   "cell_type": "code",
   "execution_count": 18,
   "id": "3b93a61d",
   "metadata": {},
   "outputs": [],
   "source": [
    "#exportamos a formato csv\n",
    "df.to_csv('documents/repo_UPAO.csv')"
   ]
  }
 ],
 "metadata": {
  "kernelspec": {
   "display_name": "Python 3 (ipykernel)",
   "language": "python",
   "name": "python3"
  },
  "language_info": {
   "codemirror_mode": {
    "name": "ipython",
    "version": 3
   },
   "file_extension": ".py",
   "mimetype": "text/x-python",
   "name": "python",
   "nbconvert_exporter": "python",
   "pygments_lexer": "ipython3",
   "version": "3.9.12"
  }
 },
 "nbformat": 4,
 "nbformat_minor": 5
}
